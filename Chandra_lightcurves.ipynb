{
  "cells": [
    {
      "cell_type": "code",
      "execution_count": 1,
      "metadata": {
        "id": "7biA4-63crF8"
      },
      "outputs": [],
      "source": [
        "import ast\n",
        "import matplotlib.pyplot as plt\n",
        "import numpy as np\n",
        "from astropy.io import fits\n",
        "from astropy import table\n",
        "from numpy import trapz\n",
        "\n",
        "import pandas as pd\n",
        "import matplotlib as mpl\n"
      ]
    },
    {
      "cell_type": "code",
      "execution_count": 3,
      "metadata": {},
      "outputs": [
        {
          "data": {
            "text/plain": [
              "'/opt/homebrew/lib/python3.11/site-packages/matplotlib/mpl-data/matplotlibrc'"
            ]
          },
          "execution_count": 3,
          "metadata": {},
          "output_type": "execute_result"
        }
      ],
      "source": [
        "mpl.matplotlib_fname()\n"
      ]
    },
    {
      "cell_type": "markdown",
      "metadata": {},
      "source": []
    },
    {
      "cell_type": "code",
      "execution_count": 2,
      "metadata": {
        "id": "_vddXqY5dvA2"
      },
      "outputs": [],
      "source": [
        "def grab_values(file):\n",
        "  empty = []\n",
        "  #z open file and read the content in a list\n",
        "  with open(file, 'r') as fp:\n",
        "      for line in fp:\n",
        "          x = line[:-1]\n",
        "\n",
        "          empty.append(float(x))\n",
        "  return empty"
      ]
    },
    {
      "cell_type": "code",
      "execution_count": 3,
      "metadata": {
        "id": "F05nGlAyYV_-"
      },
      "outputs": [],
      "source": [
        "def grab(file):\n",
        "    new_file = fits.open(file)\n",
        "    tab = table.Table(new_file[1].data).to_pandas()\n",
        "    print(tab)\n",
        "    dt_init = (np.round(tab[\"TIME\"][0]) - 100)/1000\n",
        "    print(dt_init)\n",
        "    init = tab[\"TIME\"][0]\n",
        "    print(init)\n",
        "\n",
        "    tab = tab.dropna()\n",
        "\n",
        "    dt = tab[\"TIME\"]\n",
        "    dt = [i/1000 for i in dt]\n",
        "\n",
        "    rate = tab[\"NET_RATE\"]\n",
        "    erate = tab[\"ERR_RATE\"]\n",
        "\n",
        "    print(dt[0]*1000-init)\n",
        "    return dt, rate, erate, dt_init\n",
        "\n",
        "\n"
      ]
    },
    {
      "cell_type": "code",
      "execution_count": 4,
      "metadata": {},
      "outputs": [
        {
          "data": {
            "text/plain": [
              "9.79423135"
            ]
          },
          "execution_count": 4,
          "metadata": {},
          "output_type": "execute_result"
        }
      ],
      "source": [
        "(13.076 + 5.153/2) - (4.5835373 + 7.133)/2"
      ]
    },
    {
      "cell_type": "code",
      "execution_count": 8,
      "metadata": {},
      "outputs": [
        {
          "data": {
            "text/plain": [
              "0.2201232910912294"
            ]
          },
          "execution_count": 8,
          "metadata": {},
          "output_type": "execute_result"
        }
      ],
      "source": [
        "9.79423135 / 44.4942981792"
      ]
    },
    {
      "cell_type": "code",
      "execution_count": 16,
      "metadata": {},
      "outputs": [
        {
          "name": "stdout",
          "output_type": "stream",
          "text": [
            "    TIME_BIN      TIME_MIN          TIME      TIME_MAX  COUNTS  STAT_ERR   \n",
            "0          1  7.460999e+08  7.461000e+08  7.461001e+08       0  0.000000  \\\n",
            "1          2  7.461001e+08  7.461002e+08  7.461003e+08       0  0.000000   \n",
            "2          3  7.461003e+08  7.461004e+08  7.461005e+08       0  0.000000   \n",
            "3          4  7.461005e+08  7.461006e+08  7.461007e+08       0  0.000000   \n",
            "4          5  7.461007e+08  7.461008e+08  7.461009e+08       0  0.000000   \n",
            "5          6  7.461009e+08  7.461010e+08  7.461011e+08       0  0.000000   \n",
            "6          7  7.461011e+08  7.461012e+08  7.461013e+08       0  0.000000   \n",
            "7          8  7.461013e+08  7.461014e+08  7.461015e+08       7  2.645751   \n",
            "8          9  7.461015e+08  7.461016e+08  7.461017e+08       9  3.000000   \n",
            "9         10  7.461017e+08  7.461018e+08  7.461019e+08       9  3.000000   \n",
            "10        11  7.461019e+08  7.461020e+08  7.461021e+08       9  3.000000   \n",
            "11        12  7.461021e+08  7.461022e+08  7.461023e+08       7  2.645751   \n",
            "12        13  7.461023e+08  7.461024e+08  7.461025e+08       9  3.000000   \n",
            "13        14  7.461025e+08  7.461026e+08  7.461027e+08      11  3.316625   \n",
            "14        15  7.461027e+08  7.461028e+08  7.461029e+08       6  2.449490   \n",
            "15        16  7.461029e+08  7.461030e+08  7.461031e+08      10  3.162278   \n",
            "16        17  7.461031e+08  7.461032e+08  7.461033e+08       9  3.000000   \n",
            "17        18  7.461033e+08  7.461034e+08  7.461035e+08       6  2.449490   \n",
            "18        19  7.461035e+08  7.461036e+08  7.461037e+08      12  3.464102   \n",
            "19        20  7.461037e+08  7.461038e+08  7.461039e+08       0  0.000000   \n",
            "20        21  7.461039e+08  7.461040e+08  7.461041e+08       9  3.000000   \n",
            "21        22  7.461041e+08  7.461042e+08  7.461043e+08       5  2.236068   \n",
            "22        23  7.461043e+08  7.461044e+08  7.461045e+08       9  3.000000   \n",
            "23        24  7.461045e+08  7.461046e+08  7.461047e+08      12  3.464102   \n",
            "24        25  7.461047e+08  7.461048e+08  7.461049e+08       8  2.828427   \n",
            "25        26  7.461049e+08  7.461050e+08  7.461051e+08       8  2.828427   \n",
            "26        27  7.461051e+08  7.461052e+08  7.461053e+08      10  3.162278   \n",
            "27        28  7.461053e+08  7.461054e+08  7.461055e+08       6  2.449490   \n",
            "28        29  7.461055e+08  7.461056e+08  7.461057e+08      11  3.316625   \n",
            "29        30  7.461057e+08  7.461058e+08  7.461059e+08       9  3.000000   \n",
            "30        31  7.461059e+08  7.461060e+08  7.461061e+08      11  3.316625   \n",
            "31        32  7.461061e+08  7.461062e+08  7.461063e+08       6  2.449490   \n",
            "32        33  7.461063e+08  7.461064e+08  7.461065e+08       7  2.645751   \n",
            "33        34  7.461065e+08  7.461066e+08  7.461067e+08       7  2.645751   \n",
            "34        35  7.461067e+08  7.461068e+08  7.461069e+08       9  3.000000   \n",
            "35        36  7.461069e+08  7.461070e+08  7.461071e+08      13  3.605551   \n",
            "36        37  7.461071e+08  7.461072e+08  7.461073e+08      12  3.464102   \n",
            "37        38  7.461073e+08  7.461074e+08  7.461075e+08      19  4.358899   \n",
            "38        39  7.461075e+08  7.461076e+08  7.461077e+08      17  4.123106   \n",
            "39        40  7.461077e+08  7.461078e+08  7.461079e+08      12  3.464102   \n",
            "40        41  7.461079e+08  7.461080e+08  7.461081e+08       9  3.000000   \n",
            "41        42  7.461081e+08  7.461082e+08  7.461083e+08      17  4.123106   \n",
            "42        43  7.461083e+08  7.461084e+08  7.461085e+08      15  3.872983   \n",
            "43        44  7.461085e+08  7.461086e+08  7.461087e+08      20  4.472136   \n",
            "44        45  7.461087e+08  7.461088e+08  7.461089e+08      17  4.123106   \n",
            "45        46  7.461089e+08  7.461090e+08  7.461091e+08      15  3.872983   \n",
            "46        47  7.461091e+08  7.461092e+08  7.461093e+08      12  3.464102   \n",
            "47        48  7.461093e+08  7.461094e+08  7.461095e+08      10  3.162278   \n",
            "48        49  7.461095e+08  7.461096e+08  7.461097e+08      13  3.605551   \n",
            "49        50  7.461097e+08  7.461098e+08  7.461099e+08      17  4.123106   \n",
            "50        51  7.461099e+08  7.461100e+08  7.461101e+08      19  4.358899   \n",
            "51        52  7.461101e+08  7.461102e+08  7.461103e+08      12  3.464102   \n",
            "52        53  7.461103e+08  7.461104e+08  7.461105e+08      16  4.000000   \n",
            "53        54  7.461105e+08  7.461106e+08  7.461107e+08      14  3.741657   \n",
            "54        55  7.461107e+08  7.461108e+08  7.461109e+08      15  3.872983   \n",
            "55        56  7.461109e+08  7.461110e+08  7.461111e+08      10  3.162278   \n",
            "56        57  7.461111e+08  7.461112e+08  7.461113e+08      17  4.123106   \n",
            "57        58  7.461113e+08  7.461114e+08  7.461115e+08       0  0.000000   \n",
            "58        59  7.461115e+08  7.461116e+08  7.461117e+08       0  0.000000   \n",
            "59        60  7.461117e+08  7.461118e+08  7.461119e+08       0  0.000000   \n",
            "\n",
            "          AREA    EXPOSURE  COUNT_RATE  COUNT_RATE_ERR  ...    BG_ERR   \n",
            "0   345.449193    0.000000    0.000000        0.000000  ...  0.000000  \\\n",
            "1   345.449193    0.000000    0.000000        0.000000  ...  0.000000   \n",
            "2   345.449193    0.000000    0.000000        0.000000  ...  0.000000   \n",
            "3   345.449193    0.000000    0.000000        0.000000  ...  0.000000   \n",
            "4   345.449193    0.000000    0.000000        0.000000  ...  0.000000   \n",
            "5   345.449193    0.000000    0.000000        0.000000  ...  0.000000   \n",
            "6   345.449193    0.000000    0.000000        0.000000  ...  0.000000   \n",
            "7   345.449193  178.633914    0.039186        0.014811  ...  1.000000   \n",
            "8   345.449193  197.467480    0.045577        0.015192  ...  0.000000   \n",
            "9   345.449193  197.467480    0.045577        0.015192  ...  0.000000   \n",
            "10  345.449193  197.467480    0.045577        0.015192  ...  1.000000   \n",
            "11  345.449193  197.467480    0.035449        0.013398  ...  0.000000   \n",
            "12  345.449193  197.467480    0.045577        0.015192  ...  1.000000   \n",
            "13  345.449193  197.467480    0.055705        0.016796  ...  1.414214   \n",
            "14  345.449193  197.467480    0.030385        0.012405  ...  1.000000   \n",
            "15  345.449193  197.467480    0.050641        0.016014  ...  1.000000   \n",
            "16  345.449193  197.467480    0.045577        0.015192  ...  1.000000   \n",
            "17  345.449193  197.467480    0.030385        0.012405  ...  0.000000   \n",
            "18  345.449193  197.467480    0.060769        0.017543  ...  0.000000   \n",
            "19  345.449193  197.467480    0.000000        0.000000  ...  1.414214   \n",
            "20  345.449193  197.467480    0.045577        0.015192  ...  2.000000   \n",
            "21  345.449193  197.467480    0.025321        0.011324  ...  1.000000   \n",
            "22  345.449193  197.467480    0.045577        0.015192  ...  1.414214   \n",
            "23  345.449193  197.467480    0.060769        0.017543  ...  1.000000   \n",
            "24  345.449193  197.467480    0.040513        0.014324  ...  1.732051   \n",
            "25  345.449193  197.467480    0.040513        0.014324  ...  0.000000   \n",
            "26  345.449193  197.467480    0.050641        0.016014  ...  1.414214   \n",
            "27  345.449193  197.467480    0.030385        0.012405  ...  1.000000   \n",
            "28  345.449193  197.467480    0.055705        0.016796  ...  1.414214   \n",
            "29  345.449193  197.467480    0.045577        0.015192  ...  0.000000   \n",
            "30  345.449193  197.467480    0.055705        0.016796  ...  1.000000   \n",
            "31  345.449193  197.467480    0.030385        0.012405  ...  1.000000   \n",
            "32  345.449193  197.467480    0.035449        0.013398  ...  1.732051   \n",
            "33  345.449193  197.467480    0.035449        0.013398  ...  1.000000   \n",
            "34  345.449193  197.467480    0.045577        0.015192  ...  1.732051   \n",
            "35  345.449193  197.467480    0.065834        0.018259  ...  1.000000   \n",
            "36  345.449193  197.467480    0.060769        0.017543  ...  1.000000   \n",
            "37  345.449193  197.467480    0.096218        0.022074  ...  0.000000   \n",
            "38  345.449193  197.467480    0.086090        0.020880  ...  0.000000   \n",
            "39  345.449193  197.467480    0.060769        0.017543  ...  1.000000   \n",
            "40  345.449193  197.467480    0.045577        0.015192  ...  0.000000   \n",
            "41  345.449193  197.467480    0.086090        0.020880  ...  1.000000   \n",
            "42  345.449193  197.467480    0.075962        0.019613  ...  1.414214   \n",
            "43  345.449193  197.467480    0.101282        0.022647  ...  1.732051   \n",
            "44  345.449193  197.467480    0.086090        0.020880  ...  1.000000   \n",
            "45  345.449193  197.467480    0.075962        0.019613  ...  0.000000   \n",
            "46  345.449193  197.467480    0.060769        0.017543  ...  0.000000   \n",
            "47  345.449193  197.467480    0.050641        0.016014  ...  2.236068   \n",
            "48  345.449193  197.467480    0.065834        0.018259  ...  1.414214   \n",
            "49  345.449193  197.467480    0.086090        0.020880  ...  0.000000   \n",
            "50  345.449193  197.467480    0.096218        0.022074  ...  0.000000   \n",
            "51  345.449193  197.467480    0.060769        0.017543  ...  1.000000   \n",
            "52  345.449193  197.467480    0.081026        0.020256  ...  1.000000   \n",
            "53  345.449193  197.467480    0.070898        0.018948  ...  1.000000   \n",
            "54  345.449193  197.467480    0.075962        0.019613  ...  1.414214   \n",
            "55  345.449193  197.467480    0.050641        0.016014  ...  1.000000   \n",
            "56  345.449193  164.883152    0.103103        0.025006  ...  1.000000   \n",
            "57  345.449193    0.000000    0.000000        0.000000  ...  0.000000   \n",
            "58  345.449193    0.000000    0.000000        0.000000  ...  0.000000   \n",
            "59  345.449193    0.000000    0.000000        0.000000  ...  0.000000   \n",
            "\n",
            "        BG_AREA  BG_EXPOSURE   BG_RATE  NORM_BG_COUNTS  NORM_BG_ERR   \n",
            "0   6813.513727     0.000000  0.000000             NaN          NaN  \\\n",
            "1   6813.513727     0.000000  0.000000             NaN          NaN   \n",
            "2   6813.513727     0.000000  0.000000             NaN          NaN   \n",
            "3   6813.513727     0.000000  0.000000             NaN          NaN   \n",
            "4   6813.513727     0.000000  0.000000             NaN          NaN   \n",
            "5   6813.513727     0.000000  0.000000             NaN          NaN   \n",
            "6   6813.513727     0.000000  0.000000             NaN          NaN   \n",
            "7   6813.513727   178.633914  0.005598        0.050701     0.050701   \n",
            "8   6813.513727   197.467480  0.000000        0.000000     0.000000   \n",
            "9   6813.513727   197.467480  0.000000        0.000000     0.000000   \n",
            "10  6813.513727   197.467480  0.005064        0.050701     0.050701   \n",
            "11  6813.513727   197.467480  0.000000        0.000000     0.000000   \n",
            "12  6813.513727   197.467480  0.005064        0.050701     0.050701   \n",
            "13  6813.513727   197.467480  0.010128        0.101401     0.071701   \n",
            "14  6813.513727   197.467480  0.005064        0.050701     0.050701   \n",
            "15  6813.513727   197.467480  0.005064        0.050701     0.050701   \n",
            "16  6813.513727   197.467480  0.005064        0.050701     0.050701   \n",
            "17  6813.513727   197.467480  0.000000        0.000000     0.000000   \n",
            "18  6813.513727   197.467480  0.000000        0.000000     0.000000   \n",
            "19  6813.513727   197.467480  0.010128        0.101401     0.071701   \n",
            "20  6813.513727   197.467480  0.020256        0.202802     0.101401   \n",
            "21  6813.513727   197.467480  0.005064        0.050701     0.050701   \n",
            "22  6813.513727   197.467480  0.010128        0.101401     0.071701   \n",
            "23  6813.513727   197.467480  0.005064        0.050701     0.050701   \n",
            "24  6813.513727   197.467480  0.015192        0.152102     0.087816   \n",
            "25  6813.513727   197.467480  0.000000        0.000000     0.000000   \n",
            "26  6813.513727   197.467480  0.010128        0.101401     0.071701   \n",
            "27  6813.513727   197.467480  0.005064        0.050701     0.050701   \n",
            "28  6813.513727   197.467480  0.010128        0.101401     0.071701   \n",
            "29  6813.513727   197.467480  0.000000        0.000000     0.000000   \n",
            "30  6813.513727   197.467480  0.005064        0.050701     0.050701   \n",
            "31  6813.513727   197.467480  0.005064        0.050701     0.050701   \n",
            "32  6813.513727   197.467480  0.015192        0.152102     0.087816   \n",
            "33  6813.513727   197.467480  0.005064        0.050701     0.050701   \n",
            "34  6813.513727   197.467480  0.015192        0.152102     0.087816   \n",
            "35  6813.513727   197.467480  0.005064        0.050701     0.050701   \n",
            "36  6813.513727   197.467480  0.005064        0.050701     0.050701   \n",
            "37  6813.513727   197.467480  0.000000        0.000000     0.000000   \n",
            "38  6813.513727   197.467480  0.000000        0.000000     0.000000   \n",
            "39  6813.513727   197.467480  0.005064        0.050701     0.050701   \n",
            "40  6813.513727   197.467480  0.000000        0.000000     0.000000   \n",
            "41  6813.513727   197.467480  0.005064        0.050701     0.050701   \n",
            "42  6813.513727   197.467480  0.010128        0.101401     0.071701   \n",
            "43  6813.513727   197.467480  0.015192        0.152102     0.087816   \n",
            "44  6813.513727   197.467480  0.005064        0.050701     0.050701   \n",
            "45  6813.513727   197.467480  0.000000        0.000000     0.000000   \n",
            "46  6813.513727   197.467480  0.000000        0.000000     0.000000   \n",
            "47  6813.513727   197.467480  0.025321        0.253503     0.113370   \n",
            "48  6813.513727   197.467480  0.010128        0.101401     0.071701   \n",
            "49  6813.513727   197.467480  0.000000        0.000000     0.000000   \n",
            "50  6813.513727   197.467480  0.000000        0.000000     0.000000   \n",
            "51  6813.513727   197.467480  0.005064        0.050701     0.050701   \n",
            "52  6813.513727   197.467480  0.005064        0.050701     0.050701   \n",
            "53  6813.513727   197.467480  0.005064        0.050701     0.050701   \n",
            "54  6813.513727   197.467480  0.010128        0.101401     0.071701   \n",
            "55  6813.513727   197.467480  0.005064        0.050701     0.050701   \n",
            "56  6813.513727   164.883152  0.006065        0.050701     0.050701   \n",
            "57  6813.513727     0.000000  0.000000             NaN          NaN   \n",
            "58  6813.513727     0.000000  0.000000             NaN          NaN   \n",
            "59  6813.513727     0.000000  0.000000             NaN          NaN   \n",
            "\n",
            "    NET_COUNTS   NET_ERR  NET_RATE  ERR_RATE  \n",
            "0          NaN       NaN  0.000000       NaN  \n",
            "1          NaN       NaN  0.000000       NaN  \n",
            "2          NaN       NaN  0.000000       NaN  \n",
            "3          NaN       NaN  0.000000       NaN  \n",
            "4          NaN       NaN  0.000000       NaN  \n",
            "5          NaN       NaN  0.000000       NaN  \n",
            "6          NaN       NaN  0.000000       NaN  \n",
            "7     6.949299  2.646237  0.038902  0.014814  \n",
            "8     9.000000  3.000000  0.045577  0.015192  \n",
            "9     9.000000  3.000000  0.045577  0.015192  \n",
            "10    8.949299  3.000428  0.045320  0.015195  \n",
            "11    7.000000  2.645751  0.035449  0.013398  \n",
            "12    8.949299  3.000428  0.045320  0.015195  \n",
            "13   10.898599  3.317400  0.055192  0.016800  \n",
            "14    5.949299  2.450014  0.030128  0.012407  \n",
            "15    9.949299  3.162684  0.050384  0.016016  \n",
            "16    8.949299  3.000428  0.045320  0.015195  \n",
            "17    6.000000  2.449490  0.030385  0.012405  \n",
            "18   12.000000  3.464102  0.060769  0.017543  \n",
            "19   -0.101401  0.071701 -0.000514  0.000363  \n",
            "20    8.797198  3.001713  0.044550  0.015201  \n",
            "21    4.949299  2.236643  0.025064  0.011327  \n",
            "22    8.898599  3.000857  0.045064  0.015197  \n",
            "23   11.949299  3.464473  0.060513  0.017545  \n",
            "24    7.847898  2.829790  0.039743  0.014330  \n",
            "25    8.000000  2.828427  0.040513  0.014324  \n",
            "26    9.898599  3.163090  0.050128  0.016018  \n",
            "27    5.949299  2.450014  0.030128  0.012407  \n",
            "28   10.898599  3.317400  0.055192  0.016800  \n",
            "29    9.000000  3.000000  0.045577  0.015192  \n",
            "30   10.949299  3.317012  0.055449  0.016798  \n",
            "31    5.949299  2.450014  0.030128  0.012407  \n",
            "32    6.847898  2.647208  0.034679  0.013406  \n",
            "33    6.949299  2.646237  0.035192  0.013401  \n",
            "34    8.847898  3.001285  0.044807  0.015199  \n",
            "35   12.949299  3.605908  0.065577  0.018261  \n",
            "36   11.949299  3.464473  0.060513  0.017545  \n",
            "37   19.000000  4.358899  0.096218  0.022074  \n",
            "38   17.000000  4.123106  0.086090  0.020880  \n",
            "39   11.949299  3.464473  0.060513  0.017545  \n",
            "40    9.000000  3.000000  0.045577  0.015192  \n",
            "41   16.949299  4.123417  0.085833  0.020882  \n",
            "42   14.898599  3.873647  0.075448  0.019617  \n",
            "43   19.847898  4.472998  0.100512  0.022652  \n",
            "44   16.949299  4.123417  0.085833  0.020882  \n",
            "45   15.000000  3.872983  0.075962  0.019613  \n",
            "46   12.000000  3.464102  0.060769  0.017543  \n",
            "47    9.746497  3.164309  0.049357  0.016024  \n",
            "48   12.898599  3.606264  0.065320  0.018263  \n",
            "49   17.000000  4.123106  0.086090  0.020880  \n",
            "50   19.000000  4.358899  0.096218  0.022074  \n",
            "51   11.949299  3.464473  0.060513  0.017545  \n",
            "52   15.949299  4.000321  0.080769  0.020258  \n",
            "53   13.949299  3.742001  0.070641  0.018950  \n",
            "54   14.898599  3.873647  0.075448  0.019617  \n",
            "55    9.949299  3.162684  0.050384  0.016016  \n",
            "56   16.949299  4.123417  0.102796  0.025008  \n",
            "57         NaN       NaN  0.000000       NaN  \n",
            "58         NaN       NaN  0.000000       NaN  \n",
            "59         NaN       NaN  0.000000       NaN  \n",
            "\n",
            "[60 rows x 21 columns]\n",
            "746099.89\n",
            "746099990.220258\n",
            "1400.0\n"
          ]
        },
        {
          "data": {
            "image/png": "[encoded data removed]",
            "text/plain": [
              "<Figure size 1500x1200 with 1 Axes>"
            ]
          },
          "metadata": {},
          "output_type": "display_data"
        },
        {
          "name": "stdout",
          "output_type": "stream",
          "text": [
            "746107290.0\n"
          ]
        }
      ],
      "source": [
        "obsid = 23441\n",
        "data_dir = f\"/Users/caleb/AstroPythonPrograms/codes/hr/{obsid}/primary/\"\n",
        "dt, rate, erate, dt_init = grab(data_dir+f'{obsid}_src2_sub_lc.fits')\n",
        "plt.rcParams.update({\n",
        "            'font.sans-serif': 'Times New Roman',\n",
        "            'font.family': 'serif'\n",
        "            })\n",
        "dt = np.array(dt) - dt[0]\n",
        "\n",
        "\n",
        "plt.errorbar(dt,rate,yerr=erate,fmt ='.',color = \"black\",linewidth = 1,capsize = 1)\n",
        "start =54\n",
        "stop=67\n",
        "plt.step(dt,rate,where='mid',color='black')\n",
        "plt.rcParams[\"figure.figsize\"] = (15,12)\n",
        "plt.xticks(fontsize=20)\n",
        "plt.yticks(fontsize=20)\n",
        "\n",
        "\n",
        "if obsid == 23441:\n",
        "    plt.axvline(x=8560/1000,color='darkred',ls='--',linewidth=3)\n",
        "\n",
        "if obsid == 21218:\n",
        "    plt.axvline(x=8403/1000,color='darkred',ls='--',linewidth=3)\n",
        "if obsid == 23443:\n",
        "    plt.axvline(x=4583.5373/1000,color='darkred',ls='--',linewidth=3)\n",
        "    plt.axvline(x=7133/1000,color='darkred',ls='--',linewidth=3)\n",
        "if obsid == 23444:\n",
        "    plt.axvline(x=10567/1000,color='darkred',ls='--',linewidth=3)\n",
        "    plt.axvline(x=13117/1000,color='darkred',ls='--',linewidth=3)\n",
        "\n",
        "\n",
        "\n",
        "\n",
        "\n",
        "\n",
        "\n",
        "# plt.axvline(x=13200,color='black',ls='--')\n",
        "\n",
        "plt.xlabel(f\"Time [+{dt_init}] [ks]\")\n",
        "plt.ylabel(r\"Net Rate [ct s$^{-1}$]\")\n",
        "plt.xticks(fontsize=30)\n",
        "plt.yticks(fontsize=30)\n",
        "plt.gcf().subplots_adjust(bottom=0.15)\n",
        "# or\n",
        "plt.subplots_adjust(bottom=0.15)\n",
        "\n",
        "plt.text(0, 0, f'ObsId \\n{obsid}', fontsize=20)\n",
        "\n",
        "plt.savefig(f'Lightcurve - {obsid}')\n",
        "\n",
        "plt.rcParams.update({'font.size': 30,\n",
        "                     'xtick.labelsize' : 25,\n",
        "                     'ytick.labelsize' : 25,\n",
        "                     'figure.figsize' : (15,12),\n",
        "                     'font.sans-serif': 'Times New Roman',\n",
        "                     'font.family': 'serif'\n",
        "\n",
        "})\n",
        "\n",
        "plt.show()\n",
        "\n",
        "print(5800+dt_init*1000+200+1400.0)\n",
        "\n",
        "# obs 21218: 8403\n",
        "#obs 23441: 8560.335742\n",
        "\n",
        "# chunk_edges_times = bayesian_blocks(times,fitness='events',ncp_prior=prior)\n"
      ]
    },
    {
      "cell_type": "code",
      "execution_count": null,
      "metadata": {},
      "outputs": [],
      "source": [
        "676743438.617"
      ]
    },
    {
      "cell_type": "code",
      "execution_count": 11,
      "metadata": {},
      "outputs": [
        {
          "name": "stdout",
          "output_type": "stream",
          "text": [
            "58646.677886958 58646.707450949994\n"
          ]
        }
      ],
      "source": [
        "n=12778\n",
        "ingress_time = 52066.259473 + n*0.514980311\n",
        "egress_time = 52066.289497 + n*0.514980275\n",
        "print(ingress_time,egress_time)"
      ]
    },
    {
      "cell_type": "code",
      "execution_count": 31,
      "metadata": {},
      "outputs": [],
      "source": [
        "rate = np.array(rate)\n",
        "erate = np.array(erate)"
      ]
    },
    {
      "cell_type": "code",
      "execution_count": 6,
      "metadata": {},
      "outputs": [
        {
          "data": {
            "text/plain": [
              "27"
            ]
          },
          "execution_count": 6,
          "metadata": {},
          "output_type": "execute_result"
        }
      ],
      "source": [
        "len(rate[65:92])"
      ]
    },
    {
      "cell_type": "code",
      "execution_count": 29,
      "metadata": {},
      "outputs": [
        {
          "name": "stdout",
          "output_type": "stream",
          "text": [
            "dip errors: 0.00806921579062052\n",
            "base errors: 0.006223430638540107\n",
            "0.016788666794344907\n",
            "0.07621153335444164\n",
            "SNR:\n",
            "0.1184983193468965\n"
          ]
        }
      ],
      "source": [
        "#23444\n",
        "if obsid == 23444:\n",
        "    dip = rate[rate < .05]\n",
        "    baseline = rate[65:75].tolist() + rate[43:53].tolist()\n",
        "\n",
        "    dip_indices = np.where(rate < .05)\n",
        "\n",
        "\n",
        "    dip_error = np.sqrt(sum((erate[53:65])**2) / (len(erate[53:65]))**2)\n",
        "    baseline_error = np.sqrt(  (sum((erate[65:75])**2)+sum((erate[43:53])**2)) / (20)**2   )\n",
        "\n",
        "    print('dip errors:',dip_error)\n",
        "    print('base errors:',baseline_error)\n",
        "\n",
        "    print(np.mean(baseline))\n",
        "    print(np.std(baseline))\n",
        "    print('depth: ',1 - np.mean(rate[rate < .05])/np.mean(rate[rate >= .05]))\n",
        "    print(\"SNR:\")\n",
        "    print((np.mean(baseline)-np.mean(dip))/(np.std(dip)**2+np.std(baseline)**2)**.5)\n",
        "if obsid == 21218:\n",
        "    dip = rate[rate < .1]\n",
        "    baseline = rate[-23:-13]\n",
        "\n",
        "    dip_error = erate[-10:]\n",
        "\n",
        "    baseline_error = erate[-23:-13]\n",
        "\n",
        "    dip_errored = np.sqrt(sum((dip_error)**2) / (len(dip_error))**2)\n",
        "    baseline_errored = np.sqrt(sum((baseline_error)**2) / (len(baseline_error))**2)\n",
        "\n",
        "    print('dip errors:',dip_errored)\n",
        "    print('base errors:',baseline_errored)\n",
        "\n",
        "\n",
        "\n",
        "    print(np.mean(rate[rate < .1]))\n",
        "    print(np.mean(baseline))\n",
        "    print(\"SNR:\")\n",
        "    print((np.mean(baseline)-np.mean(dip))/(np.std(dip)**2+np.std(baseline)**2)**.5)\n",
        "\n",
        "if obsid == 23443:\n",
        "    dip = rate[22:35]\n",
        "    # dip_observed = rate[65:92]\n",
        "    # baseline = rate[:22].tolist()+rate[35:65].tolist()+rate[92:].tolist()\n",
        "    baseline = rate[12:22].tolist()+rate[35:45].tolist()\n",
        "\n",
        "    baseline_error= np.array(erate[12:22].tolist()+erate[35:45].tolist())\n",
        "\n",
        "    dip_errored = np.sqrt(sum((erate[65:92])**2) / (len(erate[65:92]))**2)\n",
        "    baseline_errored = np.sqrt(sum((baseline_error)**2) / (len(baseline_error))**2)\n",
        "\n",
        "    print('dip errors:',dip_errored)\n",
        "    print('base errors:',baseline_errored)\n",
        "\n",
        "\n",
        "    print(np.std(baseline))\n",
        "    print(np.mean(baseline))\n",
        "    print(\"SNR:\")\n",
        "    print((np.mean(baseline)-np.mean(dip_observed))/(np.std(dip_observed)**2+np.std(baseline)**2)**.5)\n",
        "\n",
        "if obsid == 23441:\n",
        "    dip = rate[:28]\n",
        "    dip_expected = rate[-6:] \n",
        "    baseline = rate[28:38]\n",
        "\n",
        "\n",
        "    baseline_error= np.array(erate[28:38].tolist())\n",
        "\n",
        "    dip_errored = np.sqrt(sum((erate[-6:])**2) / (len(erate[-6:]))**2)\n",
        "    baseline_errored = np.sqrt(sum((baseline_error)**2) / (len(baseline_error))**2)\n",
        "\n",
        "    print('dip errors:',dip_errored)\n",
        "    print('base errors:',baseline_errored)\n",
        "\n",
        "    print(np.std(baseline))\n",
        "    print(np.mean(baseline))\n",
        "    print(\"SNR:\")\n",
        "    print((np.mean(baseline)-np.mean(dip_expected))/(np.std(dip_expected)**2+np.std(baseline)**2)**.5)\n",
        "\n",
        "\n"
      ]
    },
    {
      "cell_type": "code",
      "execution_count": 8,
      "metadata": {
        "id": "hmQ0igcwjv3x"
      },
      "outputs": [],
      "source": [
        "low = np.min(rate[22:35])\n",
        "high = np.max(rate[22:35])"
      ]
    },
    {
      "cell_type": "code",
      "execution_count": 14,
      "metadata": {},
      "outputs": [
        {
          "data": {
            "text/plain": [
              "[0.0926021876301835,\n",
              " 0.06570556289045103,\n",
              " 0.11117063354459568,\n",
              " 0.09607430512675735,\n",
              " 0.09099417236306376,\n",
              " 0.04543305512675745,\n",
              " 0.10610650854459569,\n",
              " 0.09601027407198293,\n",
              " 0.060529383544595784,\n",
              " 0.0707216645993702,\n",
              " 0.0707376723630638,\n",
              " 0.0707376723630638,\n",
              " 0.05544925078090219,\n",
              " 0.060577406835676605,\n",
              " 0.060529383544595784,\n",
              " 0.050529195654144654,\n",
              " 0.04532100078090221,\n",
              " 0.040176836962434195,\n",
              " 0.07067364130828938,\n",
              " 0.06552947748982135,\n",
              " 0.04543305512675745,\n",
              " 0.055465258544595795,\n",
              " 0.04538503183567664,\n",
              " 0.03528879736306387,\n",
              " 0.03525678183567666,\n",
              " 0.06567354736306381,\n",
              " 0.05051318789045105,\n",
              " 0.04030489907198304,\n",
              " 0.05040113354459581,\n",
              " 0.06060942236306381,\n",
              " 0.06059341459937021,\n",
              " 0.045353016308289425,\n",
              " 0.040176836962434195,\n",
              " 0.04544906289045106,\n",
              " 0.04030489907198304,\n",
              " 0.060561399071983,\n",
              " 0.05043314907198302,\n",
              " 0.06060942236306381,\n",
              " 0.030080602489821424,\n",
              " 0.02508050854459586,\n",
              " 0.0554812663082894,\n",
              " 0.045304993017208604,\n",
              " 0.04538503183567664,\n",
              " 0.04036893012675746,\n",
              " 0.09097816459937015,\n",
              " 0.07575377407198297,\n",
              " 0.04543305512675745,\n",
              " 0.05549727407198301,\n",
              " 0.05043314907198302,\n",
              " 0.04032090683567665,\n",
              " 0.08586601630828934,\n",
              " 0.06565753959937021,\n",
              " 0.07573776630828936,\n",
              " 0.09101018012675736,\n",
              " 0.09599426630828932,\n",
              " 0.04536902407198303,\n",
              " 0.045417047363063845,\n",
              " 0.03528879736306387,\n",
              " 0.07568974301720854,\n",
              " 0.055513281835676616,\n",
              " 0.06049736801720857,\n",
              " 0.02508050854459586,\n",
              " 0.07064162578090216,\n",
              " 0.060577406835676605,\n",
              " 0.055401227489821375,\n",
              " 0.055513281835676616,\n",
              " 0.0809299534178382,\n",
              " 0.0707376723630638,\n",
              " 0.045353016308289425,\n",
              " 0.05549727407198301,\n",
              " 0.07062561801720856,\n",
              " 0.08593004736306377,\n",
              " 0.040352922363063856,\n",
              " 0.03532081289045108,\n",
              " 0.06065744565414463,\n",
              " 0.05049718012675744,\n",
              " 0.05552928959937022,\n",
              " 0.09591422748982129,\n",
              " 0.0656415318356766,\n",
              " 0.0452729774898214,\n",
              " 0.07068964907198298,\n",
              " 0.0707376723630638,\n",
              " 0.05044915683567663,\n",
              " 0.03528879736306387,\n",
              " 0.05051318789045105,\n",
              " 0.04038493789045107,\n",
              " 0.05035311025351499,\n",
              " 0.055513281835676616,\n",
              " 0.05536921196243416,\n",
              " 0.03525678183567666,\n",
              " 0.03533682065414469,\n",
              " 0.03012862578090224,\n",
              " 0.07573776630828936,\n",
              " 0.03017664907198306,\n",
              " 0.055465258544595795,\n",
              " 0.03527278959937027,\n",
              " 0.04543305512675745,\n",
              " 0.0554812663082894,\n",
              " 0.05543324301720858,\n",
              " 0.08588202407198295,\n",
              " 0.05054520341783826,\n",
              " 0.065625524071983,\n",
              " 0.05044915683567663,\n",
              " 0.020112430126757508,\n",
              " 0.06565753959937021,\n",
              " 0.06557750078090217,\n",
              " 0.055465258544595795,\n",
              " 0.03528879736306387,\n",
              " 0.030272695654144696,\n",
              " 0.07578578959937018,\n",
              " 0.08076987578090214,\n",
              " 0.06552947748982135,\n",
              " 0.07567373525351494,\n",
              " 0.050529195654144654,\n",
              " 0.08075386801720853,\n",
              " 0.06059341459937021,\n",
              " 0.04027288354459583,\n",
              " 0.05044915683567663,\n",
              " 0.050417141308289413,\n",
              " 0.030144633544595848,\n",
              " 0.030240680126757485,\n",
              " 0.050465164599370234,\n",
              " 0.06049736801720857,\n",
              " 0.02868210746928984]"
            ]
          },
          "execution_count": 14,
          "metadata": {},
          "output_type": "execute_result"
        }
      ],
      "source": [
        "rate[:65].tolist()+rate[92:].tolist()"
      ]
    },
    {
      "cell_type": "code",
      "execution_count": 19,
      "metadata": {},
      "outputs": [
        {
          "name": "stdout",
          "output_type": "stream",
          "text": [
            "0.01178507908137255\n",
            "0.010951583553914263\n"
          ]
        }
      ],
      "source": [
        "baseline = rate[:22].tolist()+rate[35:65].tolist()+rate[92:].tolist()\n",
        "\n",
        "print(np.mean(rate[65:92]))\n",
        "print(np.std(rate[65:92]))"
      ]
    },
    {
      "cell_type": "code",
      "execution_count": null,
      "metadata": {},
      "outputs": [],
      "source": []
    },
    {
      "cell_type": "code",
      "execution_count": 15,
      "metadata": {
        "colab": {
          "base_uri": "https://localhost:8080/",
          "height": 645
        },
        "id": "U63_BFoqjwUk",
        "outputId": "112256a4-ca7e-4740-e7ae-d7aedb79f517"
      },
      "outputs": [
        {
          "data": {
            "image/png": "[encoded data removed]",
            "text/plain": [
              "<Figure size 1000x700 with 1 Axes>"
            ]
          },
          "metadata": {},
          "output_type": "display_data"
        }
      ],
      "source": [
        "# bins for dip 23443: 65-92\n",
        "# expected: 22-35\n",
        "plt.hist(rate[:65].tolist()+rate[92:].tolist(),bins=20,facecolor='white',\n",
        "         hatch='/', edgecolor='k',fill=True)\n",
        "plt.axvspan(low,high,color='grey',alpha=.5)\n",
        "plt.xlabel(\"Count Rate (Counts/s)\",fontsize=20)\n",
        "plt.ylabel(\"Number\",fontsize=20)\n",
        "plt.tick_params(axis='both', which='major', labelsize=20)\n"
      ]
    },
    {
      "cell_type": "code",
      "execution_count": null,
      "metadata": {
        "colab": {
          "base_uri": "https://localhost:8080/"
        },
        "id": "iH-lrKEYtQK5",
        "outputId": "55b8fa0e-5bdc-4b60-ae2d-243e1fe09019"
      },
      "outputs": [
        {
          "data": {
            "text/plain": [
              "0.1951835259345956"
            ]
          },
          "execution_count": 15,
          "metadata": {},
          "output_type": "execute_result"
        }
      ],
      "source": [
        "np.mean(rate[:54] + rate[67:])"
      ]
    },
    {
      "cell_type": "code",
      "execution_count": 51,
      "metadata": {
        "id": "DjZmDf1TiFQt"
      },
      "outputs": [
        {
          "data": {
            "text/plain": [
              "nan"
            ]
          },
          "execution_count": 51,
          "metadata": {},
          "output_type": "execute_result"
        }
      ],
      "source": [
        "np.mean(rate[:65]+rate[92:])"
      ]
    },
    {
      "cell_type": "code",
      "execution_count": 64,
      "metadata": {},
      "outputs": [
        {
          "data": {
            "text/plain": [
              "0.0569335176670986"
            ]
          },
          "execution_count": 64,
          "metadata": {},
          "output_type": "execute_result"
        }
      ],
      "source": [
        "np.mean(rate[:65].tolist() + rate[92:].tolist())"
      ]
    },
    {
      "cell_type": "code",
      "execution_count": 61,
      "metadata": {},
      "outputs": [
        {
          "data": {
            "text/plain": [
              "97     0.055513\n",
              "98     0.080930\n",
              "99     0.070738\n",
              "100    0.045353\n",
              "101    0.055497\n",
              "102    0.070626\n",
              "103    0.085930\n",
              "104    0.040353\n",
              "105    0.035321\n",
              "106    0.060657\n",
              "107    0.050497\n",
              "108    0.055529\n",
              "109    0.095914\n",
              "110    0.065642\n",
              "111    0.045273\n",
              "112    0.070690\n",
              "113    0.070738\n",
              "114    0.050449\n",
              "115    0.035289\n",
              "116    0.050513\n",
              "117    0.040385\n",
              "118    0.050353\n",
              "119    0.055513\n",
              "120    0.055369\n",
              "121    0.035257\n",
              "122    0.035337\n",
              "123    0.030129\n",
              "124    0.075738\n",
              "125    0.030177\n",
              "126    0.055465\n",
              "127    0.035273\n",
              "128    0.045433\n",
              "129    0.055481\n",
              "130    0.055433\n",
              "131    0.085882\n",
              "132    0.050545\n",
              "133    0.065626\n",
              "134    0.050449\n",
              "135    0.020112\n",
              "136    0.065658\n",
              "137    0.065578\n",
              "138    0.055465\n",
              "139    0.035289\n",
              "140    0.030273\n",
              "141    0.075786\n",
              "142    0.080770\n",
              "143    0.065529\n",
              "144    0.075674\n",
              "145    0.050529\n",
              "146    0.080754\n",
              "147    0.060593\n",
              "148    0.040273\n",
              "149    0.050449\n",
              "150    0.050417\n",
              "151    0.030145\n",
              "152    0.030241\n",
              "153    0.050465\n",
              "154    0.060497\n",
              "155    0.028682\n",
              "Name: NET_RATE, dtype: float64"
            ]
          },
          "execution_count": 61,
          "metadata": {},
          "output_type": "execute_result"
        }
      ],
      "source": [
        "rate[92:]"
      ]
    },
    {
      "cell_type": "code",
      "execution_count": 40,
      "metadata": {},
      "outputs": [],
      "source": [
        "times_abs = np.loadtxt(\"/Users/caleb/astropythonprograms/codes/hr/21218/primary/times21218.txt\")\n",
        "times =  times_abs - times_abs[0]\n",
        "x = [1]*len(times)"
      ]
    },
    {
      "cell_type": "code",
      "execution_count": 41,
      "metadata": {},
      "outputs": [
        {
          "name": "stdout",
          "output_type": "stream",
          "text": [
            "[0.00000000e+00 3.24104000e+00 6.48208000e+00 ... 2.99374865e+04\n",
            " 2.99407275e+04 2.99439686e+04]\n"
          ]
        }
      ],
      "source": [
        "bins = np.arange(0,29945,3.24104)\n",
        "print(bins)"
      ]
    },
    {
      "cell_type": "code",
      "execution_count": 42,
      "metadata": {},
      "outputs": [],
      "source": [
        "binned = [0] * len(bins)\n",
        "for time in times:\n",
        "\n",
        "    for number, bin in enumerate(bins):\n",
        "        if time < bin:\n",
        "            binned[number] = binned[number] + 1\n",
        "            break\n",
        "\n"
      ]
    },
    {
      "cell_type": "code",
      "execution_count": 43,
      "metadata": {},
      "outputs": [],
      "source": [
        "# spread out 2s to bin over\n",
        "for row, i  in enumerate(binned):\n",
        "    if i == 2:\n",
        "        binned[row+1] =binned[row+1] + 1\n",
        "        binned[row] = 1 \n",
        "\n",
        "binned = np.array(binned)\n"
      ]
    },
    {
      "cell_type": "code",
      "execution_count": 44,
      "metadata": {},
      "outputs": [],
      "source": [
        "binned = np.flip(binned)"
      ]
    },
    {
      "cell_type": "code",
      "execution_count": 52,
      "metadata": {},
      "outputs": [
        {
          "data": {
            "text/plain": [
              "676743405.5861146"
            ]
          },
          "execution_count": 52,
          "metadata": {},
          "output_type": "execute_result"
        }
      ],
      "source": [
        "times_abs[0] + (len(binned)-6630-first)*3.24104"
      ]
    },
    {
      "cell_type": "code",
      "execution_count": 49,
      "metadata": {},
      "outputs": [
        {
          "data": {
            "text/plain": [
              "676745274.9475983"
            ]
          },
          "execution_count": 49,
          "metadata": {},
          "output_type": "execute_result"
        }
      ],
      "source": [
        "times_abs[-1]"
      ]
    },
    {
      "cell_type": "code",
      "execution_count": 53,
      "metadata": {},
      "outputs": [
        {
          "data": {
            "text/plain": [
              "1869.3614836931229"
            ]
          },
          "execution_count": 53,
          "metadata": {},
          "output_type": "execute_result"
        }
      ],
      "source": [
        "676745274.9475983 - 676743405.5861146"
      ]
    },
    {
      "cell_type": "code",
      "execution_count": 51,
      "metadata": {},
      "outputs": [
        {
          "data": {
            "text/plain": [
              "<matplotlib.lines.Line2D at 0x1361d4610>"
            ]
          },
          "execution_count": 51,
          "metadata": {},
          "output_type": "execute_result"
        },
        {
          "data": {
            "image/png": "[encoded data removed]",
            "text/plain": [
              "<Figure size 640x480 with 1 Axes>"
            ]
          },
          "metadata": {},
          "output_type": "display_data"
        }
      ],
      "source": [
        "plt.plot(binned)\n",
        "# for 23443\n",
        "# plt.xlim(5200,8000) \n",
        "# line = 5585\n",
        "\n",
        "# # for 23444\n",
        "\n",
        "# plt.xlim(4000,4400) \n",
        "# line = 4055\n",
        "\n",
        "#\n",
        "# 21218\n",
        "# plt.xlim(6500,7000)\n",
        "line = 6630\n",
        "plt.axvline(x=line,color='b')"
      ]
    },
    {
      "cell_type": "code",
      "execution_count": 46,
      "metadata": {},
      "outputs": [],
      "source": [
        "def get_first_nonzero(line):\n",
        "    sample = binned[line:]\n",
        "    first = 0\n",
        "    for row,i in enumerate(sample):\n",
        "        if i > 0:\n",
        "            first = row\n",
        "            break\n",
        "    print(first)\n",
        "    return first"
      ]
    },
    {
      "cell_type": "code",
      "execution_count": 47,
      "metadata": {},
      "outputs": [
        {
          "name": "stdout",
          "output_type": "stream",
          "text": [
            "6\n"
          ]
        }
      ],
      "source": [
        "first = get_first_nonzero(line)"
      ]
    },
    {
      "cell_type": "code",
      "execution_count": 30,
      "metadata": {},
      "outputs": [],
      "source": [
        "# count rate outside eclipse\n",
        "\n",
        "def prob(k):\n",
        "\n",
        "    rbar = .22\n",
        "    rsigma = .002\n",
        "    unobscured_start = line + first\n",
        "\n",
        "\n",
        "    a_total = 0\n",
        "    for r in np.arange(rbar-5*rsigma,rbar+5*rsigma,.001):\n",
        "        product = 1\n",
        "        sum = 0\n",
        "        for row,i in enumerate(binned[unobscured_start:unobscured_start+k]):\n",
        "            if i >= 1:\n",
        "                product = ((row+.5)/(k))*(product)\n",
        "            if i == 0:\n",
        "                sum += (k-row-.5)/(k)\n",
        "\n",
        "        a = product * np.exp(r*3.24104*sum)*np.exp((-(r-rbar)**2)/(2*rsigma**2))\n",
        "        a_total += a\n",
        "    return a_total"
      ]
    },
    {
      "cell_type": "code",
      "execution_count": 31,
      "metadata": {},
      "outputs": [],
      "source": [
        "all_probs = []\n",
        "k_values = np.arange(0,20,1)\n",
        "for k in k_values:\n",
        "    a = prob(k)\n",
        "    all_probs.append(a)\n",
        "\n",
        "all_probs = all_probs/max(all_probs)\n",
        "\n",
        "# now we normalize\n",
        "\n",
        "\n"
      ]
    },
    {
      "cell_type": "code",
      "execution_count": 411,
      "metadata": {},
      "outputs": [
        {
          "data": {
            "text/plain": [
              "array([4.47538014e-04, 2.23769007e-04, 1.97285207e-04, 1.93262566e-04,\n",
              "       1.91688973e-04, 2.71416741e-04, 4.67091590e-04, 9.07385034e-04,\n",
              "       1.55624209e-03, 2.44115129e-03, 4.24657734e-03, 6.87843462e-03,\n",
              "       1.05257735e-02, 1.75082941e-02, 3.11526756e-02, 5.85861806e-02,\n",
              "       1.15386061e-01, 2.36296662e-01, 5.00310669e-01, 1.00000000e+00])"
            ]
          },
          "execution_count": 411,
          "metadata": {},
          "output_type": "execute_result"
        }
      ],
      "source": [
        "all_probs"
      ]
    },
    {
      "cell_type": "code",
      "execution_count": 32,
      "metadata": {},
      "outputs": [
        {
          "data": {
            "text/plain": [
              "Text(0, 0.5, 'Prob')"
            ]
          },
          "execution_count": 32,
          "metadata": {},
          "output_type": "execute_result"
        },
        {
          "data": {
            "image/png": "[encoded data removed]",
            "text/plain": [
              "<Figure size 1100x750 with 1 Axes>"
            ]
          },
          "metadata": {},
          "output_type": "display_data"
        }
      ],
      "source": [
        "\n",
        "plt.plot([k*3.24104 for k in k_values],all_probs)\n",
        "\n",
        "plt.xlabel(\"Time (s)\")\n",
        "plt.ylabel(\"Prob\")"
      ]
    },
    {
      "cell_type": "code",
      "execution_count": 55,
      "metadata": {},
      "outputs": [
        {
          "name": "stdout",
          "output_type": "stream",
          "text": [
            "2.9113038705571275\n"
          ]
        },
        {
          "data": {
            "text/plain": [
              "Text(0.5, 1.0, 'Ingress 21218')"
            ]
          },
          "execution_count": 55,
          "metadata": {},
          "output_type": "execute_result"
        },
        {
          "data": {
            "image/png": "[encoded data removed]",
            "text/plain": [
              "<Figure size 1100x750 with 1 Axes>"
            ]
          },
          "metadata": {},
          "output_type": "display_data"
        }
      ],
      "source": [
        "# normalize so area = 1\n",
        "egress_times = [k*3.24104 for k in k_values]\n",
        "area = trapz(all_probs)\n",
        "\n",
        "print(area)\n",
        "\n",
        "\n",
        "plt.plot([k*3.24104 for k in k_values],[i/area for i in all_probs])\n",
        "\n",
        "plt.xlabel(\"Time (s)\")\n",
        "plt.ylabel(\"Prob\")\n",
        "plt.title(\"Ingress 21218\")"
      ]
    },
    {
      "cell_type": "code",
      "execution_count": null,
      "metadata": {},
      "outputs": [],
      "source": []
    }
  ],
  "metadata": {
    "colab": {
      "provenance": []
    },
    "kernelspec": {
      "display_name": "Python 3",
      "name": "python3"
    },
    "language_info": {
      "codemirror_mode": {
        "name": "ipython",
        "version": 3
      },
      "file_extension": ".py",
      "mimetype": "text/x-python",
      "name": "python",
      "nbconvert_exporter": "python",
      "pygments_lexer": "ipython3",
      "version": "3.11.4"
    }
  },
  "nbformat": 4,
  "nbformat_minor": 0
}
